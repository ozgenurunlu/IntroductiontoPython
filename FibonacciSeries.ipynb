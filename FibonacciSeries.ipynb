{
  "nbformat": 4,
  "nbformat_minor": 0,
  "metadata": {
    "colab": {
      "provenance": [],
      "authorship_tag": "ABX9TyMBwfDfxbPDMfCHTNT8cd1s",
      "include_colab_link": true
    },
    "kernelspec": {
      "name": "python3",
      "display_name": "Python 3"
    },
    "language_info": {
      "name": "python"
    }
  },
  "cells": [
    {
      "cell_type": "markdown",
      "metadata": {
        "id": "view-in-github",
        "colab_type": "text"
      },
      "source": [
        "<a href=\"https://colab.research.google.com/github/ozgenurunlu/IntroductiontoPython/blob/main/FibonacciSeries.ipynb\" target=\"_parent\"><img src=\"https://colab.research.google.com/assets/colab-badge.svg\" alt=\"Open In Colab\"/></a>"
      ]
    },
    {
      "cell_type": "code",
      "execution_count": null,
      "metadata": {
        "colab": {
          "base_uri": "https://localhost:8080/"
        },
        "id": "7-wy-RWfxBgw",
        "outputId": "205820cc-3c96-49a6-cd1f-78b4143a40fb"
      },
      "outputs": [
        {
          "output_type": "execute_result",
          "data": {
            "text/plain": [
              "34"
            ]
          },
          "metadata": {},
          "execution_count": 3
        }
      ],
      "source": [
        "#fib(n)= fib(n-2)+fib(n-1) this serie has a pattern; therefore, we should use recursion\n",
        "def fib(x):\n",
        "  if x==1:\n",
        "    return 0\n",
        "  if x==2:\n",
        "    return 1\n",
        "  return fib(x-2)+fib(x-1)\n",
        "fib(10)\n"
      ]
    }
  ]
}